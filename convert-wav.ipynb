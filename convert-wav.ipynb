{
 "cells": [
  {
   "cell_type": "code",
   "execution_count": 4,
   "metadata": {},
   "outputs": [],
   "source": [
    "# Converts wav files 16 bit\n",
    "\n",
    "import soundfile as sf\n",
    "\n",
    "def wav_to_16bit(name):\n",
    "    data, samplerate = sf.read('sounds/'+name+'.wav')\n",
    "    sf.write('sounds/'+name+'.wav', data, samplerate, subtype='PCM_16')\n"
   ]
  },
  {
   "cell_type": "code",
   "execution_count": 5,
   "metadata": {},
   "outputs": [],
   "source": [
    "wav_to_16bit('piano-a-old')\n",
    "wav_to_16bit('xylophone-a-old')"
   ]
  }
 ],
 "metadata": {
  "kernelspec": {
   "display_name": "Python 3",
   "language": "python",
   "name": "python3"
  },
  "language_info": {
   "codemirror_mode": {
    "name": "ipython",
    "version": 3
   },
   "file_extension": ".py",
   "mimetype": "text/x-python",
   "name": "python",
   "nbconvert_exporter": "python",
   "pygments_lexer": "ipython3",
   "version": "3.7.7"
  }
 },
 "nbformat": 4,
 "nbformat_minor": 4
}
