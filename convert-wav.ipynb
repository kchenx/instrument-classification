{
 "cells": [
  {
   "cell_type": "code",
   "execution_count": 5,
   "metadata": {},
   "outputs": [],
   "source": [
    "# Converts wav files 16 bit\n",
    "\n",
    "import soundfile as sf\n",
    "\n",
    "data, samplerate = sf.read('audiofiles/piano-a-old.wav')\n",
    "sf.write('audiofiles/piano-a.wav', data, samplerate, subtype='PCM_16')\n",
    "\n",
    "data, samplerate = sf.read('audiofiles/xylophone-a-old.wav')\n",
    "sf.write('audiofiles/xylophone-a.wav', data, samplerate, subtype='PCM_16')\n"
   ]
  }
 ],
 "metadata": {
  "kernelspec": {
   "display_name": "Python 3",
   "language": "python",
   "name": "python3"
  },
  "language_info": {
   "codemirror_mode": {
    "name": "ipython",
    "version": 3
   },
   "file_extension": ".py",
   "mimetype": "text/x-python",
   "name": "python",
   "nbconvert_exporter": "python",
   "pygments_lexer": "ipython3",
   "version": "3.7.7"
  }
 },
 "nbformat": 4,
 "nbformat_minor": 4
}
